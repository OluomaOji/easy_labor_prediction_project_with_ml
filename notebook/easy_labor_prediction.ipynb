{
 "cells": [
  {
   "cell_type": "code",
   "execution_count": null,
   "metadata": {},
   "outputs": [],
   "source": []
  }
 ],
 "metadata": {
  "kernelspec": {
   "display_name": "Python 3.10.0",
   "language": "python",
   "name": "python3"
  },
  "language_info": {
   "name": "python",
   "version": "3.10.0"
  },
  "vscode": {
   "interpreter": {
    "hash": "a822930c855dadefc18b56c480bc9dcde5d9a7b1f0fb169b7e3278fe720b434b"
   }
  }
 },
 "nbformat": 4,
 "nbformat_minor": 2
}
